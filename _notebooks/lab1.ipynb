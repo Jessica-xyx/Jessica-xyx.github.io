{
 "cells": [
  {
   "cell_type": "markdown",
   "metadata": {},
   "source": [
    "一、Pytorch基本操作考察"
   ]
  },
  {
   "cell_type": "markdown",
   "metadata": {},
   "source": [
    "1. 使用 𝐓𝐞𝐧𝐬𝐨𝐫 初始化一个 𝟏 × 𝟑 的矩阵 𝑴 和一个𝟐 × 𝟏 的矩阵 𝑵，对两矩阵进行减法操作（要求实现三种不同的形式），给出结果并分析三种方式的不同（如果出现报错，分析报错的因），同时需要指出在计算过程中发生了什么"
   ]
  },
  {
   "cell_type": "code",
   "execution_count": 272,
   "metadata": {},
   "outputs": [],
   "source": [
    "import torch"
   ]
  },
  {
   "cell_type": "code",
   "execution_count": 273,
   "metadata": {},
   "outputs": [],
   "source": [
    "m = torch.Tensor([[1,2,3]])\n",
    "n = torch.Tensor([[5],[6]])"
   ]
  },
  {
   "cell_type": "code",
   "execution_count": 274,
   "metadata": {},
   "outputs": [
    {
     "name": "stdout",
     "output_type": "stream",
     "text": [
      "tensor([[-4., -3., -2.],\n",
      "        [-5., -4., -3.]])\n"
     ]
    }
   ],
   "source": [
    "print(m - n)"
   ]
  },
  {
   "cell_type": "markdown",
   "metadata": {},
   "source": [
    "Broadcasting能够实现Tensor自动维度增加（unsqueeze）与维度扩展（expand），以使两个Tensor的shape一致，如果 x 和 y 的维度不同，那么对于维度较小的 tensor 的维度补 1，使它们维度相同。\n",
    "然后，对于每个维度，计算结果的维度值就是 x 和 y 中较大的那个值。\n",
    "因此相减结果的维度应该是[2,3]，m被扩充成[[1,2,3],[1,2,3]]，n被扩充成[[5,5,5],[6,6,6]]"
   ]
  },
  {
   "cell_type": "code",
   "execution_count": 275,
   "metadata": {},
   "outputs": [
    {
     "name": "stdout",
     "output_type": "stream",
     "text": [
      "torch.Size([1, 3])\n",
      "torch.Size([2, 1])\n",
      "torch.Size([2, 3])\n"
     ]
    }
   ],
   "source": [
    "print(m.shape)\n",
    "print(n.shape)\n",
    "print((m-n).shape)\n"
   ]
  },
  {
   "cell_type": "code",
   "execution_count": 276,
   "metadata": {},
   "outputs": [
    {
     "name": "stdout",
     "output_type": "stream",
     "text": [
      "tensor([[-4., -3., -2.],\n",
      "        [-5., -4., -3.]])\n"
     ]
    }
   ],
   "source": [
    "print(torch.sub(m, n))"
   ]
  },
  {
   "cell_type": "code",
   "execution_count": 277,
   "metadata": {},
   "outputs": [
    {
     "name": "stdout",
     "output_type": "stream",
     "text": [
      "tensor([[1., 2., 3.]])\n"
     ]
    }
   ],
   "source": [
    "print(m)"
   ]
  },
  {
   "cell_type": "markdown",
   "metadata": {},
   "source": [
    "torch.sub()和减法的效果一致，且被减数不变"
   ]
  },
  {
   "cell_type": "code",
   "execution_count": 278,
   "metadata": {},
   "outputs": [
    {
     "ename": "RuntimeError",
     "evalue": "output with shape [1, 3] doesn't match the broadcast shape [2, 3]",
     "output_type": "error",
     "traceback": [
      "\u001b[1;31m---------------------------------------------------------------------------\u001b[0m",
      "\u001b[1;31mRuntimeError\u001b[0m                              Traceback (most recent call last)",
      "\u001b[1;32me:\\deeplearning_wanhuaiyu_2022\\homework\\lab1\\lab1.ipynb Cell 11'\u001b[0m in \u001b[0;36m<cell line: 1>\u001b[1;34m()\u001b[0m\n\u001b[1;32m----> <a href='vscode-notebook-cell:/e%3A/deeplearning_wanhuaiyu_2022/homework/lab1/lab1.ipynb#ch0000007?line=0'>1</a>\u001b[0m m\u001b[39m.\u001b[39;49msub_(n)\n\u001b[0;32m      <a href='vscode-notebook-cell:/e%3A/deeplearning_wanhuaiyu_2022/homework/lab1/lab1.ipynb#ch0000007?line=1'>2</a>\u001b[0m \u001b[39mprint\u001b[39m(m)\n",
      "\u001b[1;31mRuntimeError\u001b[0m: output with shape [1, 3] doesn't match the broadcast shape [2, 3]"
     ]
    }
   ],
   "source": [
    "m.sub_(n)\n",
    "print(m)"
   ]
  },
  {
   "cell_type": "markdown",
   "metadata": {},
   "source": [
    "torch.sub_()功能与torch.sub()相同，区别在与torch.sub_()是torch.sub()的in-place操作版本。\n",
    "in-place 操作是直接改变给定线性代数、向量、矩阵(张量)的内容而不需要复制的运算。\n",
    "减法操作的结果的形状是[2,3]，而被减数m的形状是[1,3]，两个形状不一样所以报错了。无法赋值一个形状为[2,3]的数给m。"
   ]
  },
  {
   "cell_type": "markdown",
   "metadata": {},
   "source": [
    "2. ① 利用 𝐓𝐞𝐧𝐬𝐨𝐫 创建两个大小分别 𝟑 × 𝟐 和 𝟒 × 𝟐 的随机数矩阵 𝑷 和 𝑸 ，要求服从均值为0，标准差0.01为的正态分布；② 对第二步得到的矩阵 𝑸 进行形状变换得到 𝑸 的转置 𝑸𝑻 ；③ 对上述得到的矩阵 𝑷 和矩阵 𝑸𝑻 求矩阵相乘"
   ]
  },
  {
   "cell_type": "code",
   "execution_count": null,
   "metadata": {},
   "outputs": [
    {
     "name": "stdout",
     "output_type": "stream",
     "text": [
      "tensor([[ 0.0066,  0.0102],\n",
      "        [-0.0073, -0.0031],\n",
      "        [-0.0065, -0.0011]])\n",
      "tensor([[ 0.0084,  0.0104],\n",
      "        [ 0.0025, -0.0048],\n",
      "        [ 0.0063,  0.0234],\n",
      "        [ 0.0151,  0.0079]])\n"
     ]
    }
   ],
   "source": [
    "p = torch.Tensor(3,2)\n",
    "q = torch.Tensor(4,2)\n",
    "torch.nn.init.normal_(p,mean=0, std=0.01)\n",
    "torch.nn.init.normal_(q,mean=0, std=0.01)\n",
    "print(p)\n",
    "print(q)"
   ]
  },
  {
   "cell_type": "code",
   "execution_count": null,
   "metadata": {},
   "outputs": [
    {
     "data": {
      "text/plain": [
       "tensor([[ 1.6117e-04, -3.1666e-05,  2.7953e-04,  1.8049e-04],\n",
       "        [-9.3779e-05, -3.9214e-06, -1.1848e-04, -1.3533e-04],\n",
       "        [-6.5489e-05, -1.1341e-05, -6.5738e-05, -1.0617e-04]])"
      ]
     },
     "execution_count": 37,
     "metadata": {},
     "output_type": "execute_result"
    }
   ],
   "source": [
    "torch.transpose(q,dim0=0,dim1=1)\n",
    "torch.mm(p,q)"
   ]
  },
  {
   "cell_type": "markdown",
   "metadata": {},
   "source": [
    "3. 给定公式 $𝑦_3 = 𝑦_1 + 𝑦_2 = 𝑥^2 + 𝑥^3$，且 𝑥 = 1。利用学习所得到的Tensor的相关知识，求𝑦3对𝑥的梯度，即$\\frac{d y_{3}}{d x}$。\n",
    "要求在计算过程中，在计算 𝑥3 时中断梯度的追踪，观察结果并进行原因分析提示, 可使用 with torch.no_grad()， 举例:\n",
    "with torch.no_grad():\n",
    "y = x * 5"
   ]
  },
  {
   "cell_type": "code",
   "execution_count": null,
   "metadata": {},
   "outputs": [
    {
     "name": "stdout",
     "output_type": "stream",
     "text": [
      "True\n",
      "tensor([5.])\n"
     ]
    }
   ],
   "source": [
    "x = torch.tensor([1.0],requires_grad=True)\n",
    "y1 = x * x\n",
    "y2 = x * x * x\n",
    "print(y2.requires_grad)\n",
    "y3 = y1 + y2\n",
    "y3.backward()\n",
    "print(x.grad)"
   ]
  },
  {
   "cell_type": "markdown",
   "metadata": {},
   "source": [
    "不中断梯度跟踪，$\\frac{d y_{3}}{d x}=2x+3x=5x$，当x=1时，计算结果为5"
   ]
  },
  {
   "cell_type": "code",
   "execution_count": null,
   "metadata": {},
   "outputs": [
    {
     "name": "stdout",
     "output_type": "stream",
     "text": [
      "True\n",
      "False\n",
      "None\n",
      "tensor([2.])\n"
     ]
    }
   ],
   "source": [
    "x = torch.tensor([1.0],requires_grad=True)\n",
    "y1 = x * x\n",
    "y2 = x * x * x\n",
    "print(y2.requires_grad)\n",
    "with torch.no_grad():\n",
    "    y2 = x * x * x\n",
    "    print(y2.requires_grad)\n",
    "    print(y2.grad_fn)\n",
    "y3 = y1 + y2\n",
    "y3.backward()\n",
    "print(x.grad)"
   ]
  },
  {
   "cell_type": "code",
   "execution_count": null,
   "metadata": {},
   "outputs": [
    {
     "name": "stdout",
     "output_type": "stream",
     "text": [
      "True\n",
      "False\n",
      "None\n",
      "tensor([2.])\n"
     ]
    }
   ],
   "source": [
    "x = torch.tensor([1.0],requires_grad=True)\n",
    "y1 = x * x\n",
    "y2 = x * x * x\n",
    "print(y2.requires_grad)\n",
    "with torch.no_grad():\n",
    "    y2 = x * 5\n",
    "    print(y2.requires_grad)\n",
    "    print(y2.grad_fn)\n",
    "y3 = y1 + y2\n",
    "y3.backward()\n",
    "print(x.grad)"
   ]
  },
  {
   "cell_type": "markdown",
   "metadata": {},
   "source": [
    "因为y2中断了梯度的跟踪，所以无论y2值怎么算，梯度只返回$x^2$的梯度计算结果，即：2x，当x=1时结果为2"
   ]
  },
  {
   "cell_type": "markdown",
   "metadata": {},
   "source": [
    "二、动手实现 logistic 回归"
   ]
  },
  {
   "cell_type": "markdown",
   "metadata": {},
   "source": [
    "1. 要求动手从0实现 logistic 回归（只借助Tensor和Numpy相关的库）在人工构造的数据集上进行训练和测试，并从loss以及训练集上的准确率等多个角度对结果进行分析\n",
    "（可借助nn.BCELoss或nn.BCEWithLogitsLoss作为损失函数，从零实现二元交叉熵为选作）"
   ]
  },
  {
   "cell_type": "code",
   "execution_count": 306,
   "metadata": {},
   "outputs": [],
   "source": [
    "import numpy as np\n",
    "%matplotlib inline\n",
    "from matplotlib.colors import ListedColormap\n",
    "import torch\n",
    "import matplotlib.pyplot as plt"
   ]
  },
  {
   "cell_type": "code",
   "execution_count": 307,
   "metadata": {},
   "outputs": [],
   "source": [
    "n_data = torch.ones(100, 2) # 数据的基本形态\n",
    "x1 = torch.normal(2 * n_data, 1) # shape=(100, 2)\n",
    "y1 = torch.zeros(100) # 类型0 shape=(100, 1)\n",
    "x2 = torch.normal(-2 * n_data, 1) # shape=(100, 2)\n",
    "y2 = torch.ones(100) # 类型1 shape=(100, 1)\n",
    "# 注意 x, y 数据的数据形式一定要像下面一样 (torch.cat 是合并数据)\n",
    "x = torch.cat((x1, x2), 0).type(torch.FloatTensor)\n",
    "y = torch.cat((y1, y2), 0).type(torch.FloatTensor)"
   ]
  },
  {
   "cell_type": "code",
   "execution_count": 308,
   "metadata": {},
   "outputs": [
    {
     "name": "stdout",
     "output_type": "stream",
     "text": [
      "torch.Size([160, 2]) torch.Size([160]) torch.Size([40, 2]) torch.Size([40])\n"
     ]
    }
   ],
   "source": [
    "index = 80\n",
    "train_x = torch.cat((x1[:index], x2[:index]), 0).type(torch.FloatTensor)\n",
    "train_y = torch.cat((y1[:index], y2[:index]), 0).type(torch.FloatTensor)\n",
    "test_x = torch.cat((x1[index:], x2[index:]), 0).type(torch.FloatTensor)\n",
    "test_y = torch.cat((y1[index:], y2[index:]), 0).type(torch.FloatTensor)\n",
    "print(train_x.shape,train_y.shape,test_x.shape,test_y.shape)"
   ]
  },
  {
   "cell_type": "code",
   "execution_count": 309,
   "metadata": {},
   "outputs": [],
   "source": [
    "def initialize(m):\n",
    "    W=torch.tensor(np.random.normal(0,0.01,(m,1)),dtype=torch.float32)\n",
    "    b=torch.zeros(1,dtype=torch.float32)\n",
    "    W.requires_grad_(requires_grad=True)\n",
    "    b.requires_grad_(requires_grad=True)\n",
    "\n",
    "    return W, b"
   ]
  },
  {
   "cell_type": "code",
   "execution_count": 310,
   "metadata": {},
   "outputs": [],
   "source": [
    "def data_iter(batch_size,features,labels):\n",
    "    num_examples=len(features)\n",
    "    indices=list(range(num_examples))\n",
    "    np.random.shuffle(indices)\n",
    "    for i in range(0,num_examples,batch_size):\n",
    "        j=torch.LongTensor(indices[i:min(i+batch_size,num_examples)])\n",
    "        yield features.index_select(0,j),labels.index_select(0,j)\n"
   ]
  },
  {
   "cell_type": "code",
   "execution_count": 311,
   "metadata": {},
   "outputs": [],
   "source": [
    "def linear_combination(X, W, b):\n",
    "    Z = torch.mm(X, W) + b \n",
    "    return Z"
   ]
  },
  {
   "cell_type": "code",
   "execution_count": 312,
   "metadata": {},
   "outputs": [],
   "source": [
    "def my_sigmoid(x):\n",
    "    activations = 1/(1 + torch.pow(np.e,-x))\n",
    "    return activations"
   ]
  },
  {
   "cell_type": "code",
   "execution_count": 313,
   "metadata": {},
   "outputs": [],
   "source": [
    "def forward(X, W, b):\n",
    "    Z = linear_combination(X, W, b) \n",
    "    y_pred = my_sigmoid(Z) \n",
    "    return y_pred"
   ]
  },
  {
   "cell_type": "code",
   "execution_count": 314,
   "metadata": {},
   "outputs": [],
   "source": [
    "def logloss(y_true, y_pred):\n",
    "    y_true = y_true.view(y_pred.size())  \n",
    "    loss = -y_true.mul(torch.log(y_pred))-(1-y_true).mul(torch.log(1-y_pred))\n",
    "    return loss"
   ]
  },
  {
   "cell_type": "code",
   "execution_count": 315,
   "metadata": {},
   "outputs": [],
   "source": [
    "def update(params, batch_size, learning_rate):\n",
    "    for param in params:\n",
    "        param.data -= learning_rate * param.grad / batch_size"
   ]
  },
  {
   "cell_type": "code",
   "execution_count": 316,
   "metadata": {},
   "outputs": [],
   "source": [
    "def evaluate_accuracy(test_x, test_y, W, b, batch_size):  \n",
    "    acc_sum,n,test_l_sum = 0.0,0 ,0 \n",
    "    for testX,testY in data_iter(batch_size, test_x, test_y): \n",
    "        test_y_pred = forward(testX, W, b) \n",
    "        test_y_pred = torch.squeeze(torch.where(test_y_pred>0.5,torch.tensor(1.0),torch.tensor(0.0)))  \n",
    "        acc_sum += (test_y_pred==testY).float().sum().item()\n",
    "        training_loss = logloss(testY, test_y_pred).sum()\n",
    "        test_l_sum += training_loss.item()  \n",
    "        n += testY.shape[0]  \n",
    "    return acc_sum/n,test_l_sum/n \n"
   ]
  },
  {
   "cell_type": "code",
   "execution_count": 317,
   "metadata": {},
   "outputs": [],
   "source": [
    "def train(test_acc, train_acc, train_loss, test_loss, W, b, epochs, batch_size, learning_rate, train_x,train_y,test_x, test_y):\n",
    "    training_loss_list = []\n",
    "    for i in range(epochs):\n",
    "        train_l_sum, train_acc_sum, n = 0.0,0.0,0  \n",
    "        for trainX, trainY in data_iter(batch_size, train_x,train_y):\n",
    "            train_y_pred = forward(trainX, W, b) \n",
    "            training_loss = logloss(trainY, train_y_pred).sum()\n",
    "            training_loss.backward()\n",
    "            update([W,b],batch_size,learning_rate)\n",
    "            W.grad.data.zero_()   \n",
    "            b.grad.data.zero_() \n",
    "            train_l_sum += training_loss.item()  \n",
    "            train_y_pred = torch.squeeze(torch.where(train_y_pred>0.5,torch.tensor(1.0),torch.tensor(0.0)))  \n",
    "            train_acc_sum += (train_y_pred==trainY).sum().item()  \n",
    "            n += trainY.shape[0] \n",
    "        test_a,test_l = evaluate_accuracy(test_x, test_y, W,b,batch_size)\n",
    "        test_acc.append(test_a)\n",
    "        test_loss.append(test_l)\n",
    "        train_acc.append(train_acc_sum/n)\n",
    "        train_loss.append(train_l_sum/n)\n",
    "        print('epoch %d, loss %.4f, train acc %.3f, test acc %.3f'\n",
    "            % (i + 1, train_loss[i], train_acc[i], test_acc[i]))\n"
   ]
  },
  {
   "cell_type": "code",
   "execution_count": 318,
   "metadata": {},
   "outputs": [],
   "source": [
    "def plot_loss_curve(*args,xlabel = \"epoch\",ylabel = \"loss\"):\n",
    "    for i in args:\n",
    "        x = np.linspace(0,len(i[0]),len(i[0]))  \n",
    "        plt.plot(x,i[0],label=i[1],linewidth=1.5)  \n",
    "    plt.xlabel(xlabel)\n",
    "    plt.ylabel(ylabel)\n",
    "    plt.legend()\n",
    "    plt.show()"
   ]
  },
  {
   "cell_type": "code",
   "execution_count": 319,
   "metadata": {},
   "outputs": [
    {
     "name": "stdout",
     "output_type": "stream",
     "text": [
      "epoch 1, loss 0.6856, train acc 1.000, test acc 1.000\n",
      "epoch 2, loss 0.6821, train acc 1.000, test acc 1.000\n",
      "epoch 3, loss 0.6786, train acc 1.000, test acc 1.000\n",
      "epoch 4, loss 0.6752, train acc 1.000, test acc 1.000\n",
      "epoch 5, loss 0.6718, train acc 1.000, test acc 1.000\n",
      "epoch 6, loss 0.6684, train acc 1.000, test acc 1.000\n",
      "epoch 7, loss 0.6650, train acc 1.000, test acc 1.000\n",
      "epoch 8, loss 0.6617, train acc 1.000, test acc 1.000\n",
      "epoch 9, loss 0.6584, train acc 1.000, test acc 1.000\n",
      "epoch 10, loss 0.6551, train acc 1.000, test acc 1.000\n",
      "epoch 11, loss 0.6518, train acc 1.000, test acc 1.000\n",
      "epoch 12, loss 0.6486, train acc 1.000, test acc 1.000\n",
      "epoch 13, loss 0.6454, train acc 1.000, test acc 1.000\n",
      "epoch 14, loss 0.6422, train acc 1.000, test acc 1.000\n",
      "epoch 15, loss 0.6390, train acc 1.000, test acc 1.000\n",
      "epoch 16, loss 0.6359, train acc 1.000, test acc 1.000\n",
      "epoch 17, loss 0.6328, train acc 1.000, test acc 1.000\n",
      "epoch 18, loss 0.6297, train acc 1.000, test acc 1.000\n",
      "epoch 19, loss 0.6266, train acc 1.000, test acc 1.000\n",
      "epoch 20, loss 0.6236, train acc 1.000, test acc 1.000\n",
      "epoch 21, loss 0.6206, train acc 1.000, test acc 1.000\n",
      "epoch 22, loss 0.6176, train acc 1.000, test acc 1.000\n",
      "epoch 23, loss 0.6146, train acc 1.000, test acc 1.000\n",
      "epoch 24, loss 0.6117, train acc 1.000, test acc 1.000\n",
      "epoch 25, loss 0.6088, train acc 1.000, test acc 1.000\n",
      "epoch 26, loss 0.6059, train acc 1.000, test acc 1.000\n",
      "epoch 27, loss 0.6030, train acc 1.000, test acc 1.000\n",
      "epoch 28, loss 0.6001, train acc 1.000, test acc 1.000\n",
      "epoch 29, loss 0.5973, train acc 1.000, test acc 1.000\n",
      "epoch 30, loss 0.5945, train acc 1.000, test acc 1.000\n",
      "epoch 31, loss 0.5917, train acc 1.000, test acc 1.000\n",
      "epoch 32, loss 0.5889, train acc 1.000, test acc 1.000\n",
      "epoch 33, loss 0.5862, train acc 1.000, test acc 1.000\n",
      "epoch 34, loss 0.5835, train acc 1.000, test acc 1.000\n",
      "epoch 35, loss 0.5807, train acc 1.000, test acc 1.000\n",
      "epoch 36, loss 0.5781, train acc 1.000, test acc 1.000\n",
      "epoch 37, loss 0.5754, train acc 1.000, test acc 1.000\n",
      "epoch 38, loss 0.5728, train acc 1.000, test acc 1.000\n",
      "epoch 39, loss 0.5701, train acc 1.000, test acc 1.000\n",
      "epoch 40, loss 0.5675, train acc 1.000, test acc 1.000\n",
      "epoch 41, loss 0.5650, train acc 1.000, test acc 1.000\n",
      "epoch 42, loss 0.5624, train acc 1.000, test acc 1.000\n",
      "epoch 43, loss 0.5598, train acc 1.000, test acc 1.000\n",
      "epoch 44, loss 0.5573, train acc 1.000, test acc 1.000\n",
      "epoch 45, loss 0.5548, train acc 1.000, test acc 1.000\n",
      "epoch 46, loss 0.5523, train acc 1.000, test acc 1.000\n",
      "epoch 47, loss 0.5499, train acc 1.000, test acc 1.000\n",
      "epoch 48, loss 0.5474, train acc 1.000, test acc 1.000\n",
      "epoch 49, loss 0.5450, train acc 1.000, test acc 1.000\n",
      "epoch 50, loss 0.5426, train acc 1.000, test acc 1.000\n",
      "epoch 51, loss 0.5402, train acc 1.000, test acc 1.000\n",
      "epoch 52, loss 0.5378, train acc 1.000, test acc 1.000\n",
      "epoch 53, loss 0.5355, train acc 1.000, test acc 1.000\n",
      "epoch 54, loss 0.5331, train acc 1.000, test acc 1.000\n",
      "epoch 55, loss 0.5308, train acc 1.000, test acc 1.000\n",
      "epoch 56, loss 0.5285, train acc 1.000, test acc 1.000\n",
      "epoch 57, loss 0.5262, train acc 1.000, test acc 1.000\n",
      "epoch 58, loss 0.5239, train acc 1.000, test acc 1.000\n",
      "epoch 59, loss 0.5217, train acc 1.000, test acc 1.000\n",
      "epoch 60, loss 0.5195, train acc 1.000, test acc 1.000\n",
      "epoch 61, loss 0.5172, train acc 1.000, test acc 1.000\n",
      "epoch 62, loss 0.5150, train acc 1.000, test acc 1.000\n",
      "epoch 63, loss 0.5128, train acc 1.000, test acc 1.000\n",
      "epoch 64, loss 0.5107, train acc 1.000, test acc 1.000\n",
      "epoch 65, loss 0.5085, train acc 1.000, test acc 1.000\n",
      "epoch 66, loss 0.5064, train acc 1.000, test acc 1.000\n",
      "epoch 67, loss 0.5043, train acc 1.000, test acc 1.000\n",
      "epoch 68, loss 0.5021, train acc 1.000, test acc 1.000\n",
      "epoch 69, loss 0.5001, train acc 1.000, test acc 1.000\n",
      "epoch 70, loss 0.4980, train acc 1.000, test acc 1.000\n",
      "epoch 71, loss 0.4959, train acc 1.000, test acc 1.000\n",
      "epoch 72, loss 0.4939, train acc 1.000, test acc 1.000\n",
      "epoch 73, loss 0.4918, train acc 1.000, test acc 1.000\n",
      "epoch 74, loss 0.4898, train acc 1.000, test acc 1.000\n",
      "epoch 75, loss 0.4878, train acc 1.000, test acc 1.000\n",
      "epoch 76, loss 0.4858, train acc 1.000, test acc 1.000\n",
      "epoch 77, loss 0.4839, train acc 1.000, test acc 1.000\n",
      "epoch 78, loss 0.4819, train acc 1.000, test acc 1.000\n",
      "epoch 79, loss 0.4800, train acc 1.000, test acc 1.000\n",
      "epoch 80, loss 0.4780, train acc 1.000, test acc 1.000\n",
      "epoch 81, loss 0.4761, train acc 1.000, test acc 1.000\n",
      "epoch 82, loss 0.4742, train acc 1.000, test acc 1.000\n",
      "epoch 83, loss 0.4723, train acc 1.000, test acc 1.000\n",
      "epoch 84, loss 0.4705, train acc 1.000, test acc 1.000\n",
      "epoch 85, loss 0.4686, train acc 1.000, test acc 1.000\n",
      "epoch 86, loss 0.4667, train acc 1.000, test acc 1.000\n",
      "epoch 87, loss 0.4649, train acc 1.000, test acc 1.000\n",
      "epoch 88, loss 0.4631, train acc 1.000, test acc 1.000\n",
      "epoch 89, loss 0.4613, train acc 1.000, test acc 1.000\n",
      "epoch 90, loss 0.4595, train acc 1.000, test acc 1.000\n",
      "epoch 91, loss 0.4577, train acc 1.000, test acc 1.000\n",
      "epoch 92, loss 0.4559, train acc 1.000, test acc 1.000\n",
      "epoch 93, loss 0.4542, train acc 1.000, test acc 1.000\n",
      "epoch 94, loss 0.4524, train acc 1.000, test acc 1.000\n",
      "epoch 95, loss 0.4507, train acc 1.000, test acc 1.000\n",
      "epoch 96, loss 0.4490, train acc 1.000, test acc 1.000\n",
      "epoch 97, loss 0.4472, train acc 1.000, test acc 1.000\n",
      "epoch 98, loss 0.4455, train acc 1.000, test acc 1.000\n",
      "epoch 99, loss 0.4439, train acc 1.000, test acc 1.000\n",
      "epoch 100, loss 0.4422, train acc 1.000, test acc 1.000\n",
      "epoch 101, loss 0.4405, train acc 1.000, test acc 1.000\n",
      "epoch 102, loss 0.4389, train acc 1.000, test acc 1.000\n",
      "epoch 103, loss 0.4372, train acc 1.000, test acc 1.000\n",
      "epoch 104, loss 0.4356, train acc 1.000, test acc 1.000\n",
      "epoch 105, loss 0.4340, train acc 1.000, test acc 1.000\n",
      "epoch 106, loss 0.4324, train acc 1.000, test acc 1.000\n",
      "epoch 107, loss 0.4308, train acc 1.000, test acc 1.000\n",
      "epoch 108, loss 0.4292, train acc 1.000, test acc 1.000\n",
      "epoch 109, loss 0.4276, train acc 1.000, test acc 1.000\n",
      "epoch 110, loss 0.4260, train acc 1.000, test acc 1.000\n",
      "epoch 111, loss 0.4245, train acc 1.000, test acc 1.000\n",
      "epoch 112, loss 0.4230, train acc 1.000, test acc 1.000\n",
      "epoch 113, loss 0.4214, train acc 1.000, test acc 1.000\n",
      "epoch 114, loss 0.4199, train acc 1.000, test acc 1.000\n",
      "epoch 115, loss 0.4184, train acc 1.000, test acc 1.000\n",
      "epoch 116, loss 0.4169, train acc 1.000, test acc 1.000\n",
      "epoch 117, loss 0.4154, train acc 1.000, test acc 1.000\n",
      "epoch 118, loss 0.4139, train acc 1.000, test acc 1.000\n",
      "epoch 119, loss 0.4124, train acc 1.000, test acc 1.000\n",
      "epoch 120, loss 0.4110, train acc 1.000, test acc 1.000\n",
      "epoch 121, loss 0.4095, train acc 1.000, test acc 1.000\n",
      "epoch 122, loss 0.4081, train acc 1.000, test acc 1.000\n",
      "epoch 123, loss 0.4067, train acc 1.000, test acc 1.000\n",
      "epoch 124, loss 0.4052, train acc 1.000, test acc 1.000\n",
      "epoch 125, loss 0.4038, train acc 1.000, test acc 1.000\n",
      "epoch 126, loss 0.4024, train acc 1.000, test acc 1.000\n",
      "epoch 127, loss 0.4010, train acc 1.000, test acc 1.000\n",
      "epoch 128, loss 0.3996, train acc 1.000, test acc 1.000\n",
      "epoch 129, loss 0.3983, train acc 1.000, test acc 1.000\n",
      "epoch 130, loss 0.3969, train acc 1.000, test acc 1.000\n",
      "epoch 131, loss 0.3955, train acc 1.000, test acc 1.000\n",
      "epoch 132, loss 0.3942, train acc 1.000, test acc 1.000\n",
      "epoch 133, loss 0.3928, train acc 1.000, test acc 1.000\n",
      "epoch 134, loss 0.3915, train acc 1.000, test acc 1.000\n",
      "epoch 135, loss 0.3902, train acc 1.000, test acc 1.000\n",
      "epoch 136, loss 0.3889, train acc 1.000, test acc 1.000\n",
      "epoch 137, loss 0.3875, train acc 1.000, test acc 1.000\n",
      "epoch 138, loss 0.3862, train acc 1.000, test acc 1.000\n",
      "epoch 139, loss 0.3850, train acc 1.000, test acc 1.000\n",
      "epoch 140, loss 0.3837, train acc 1.000, test acc 1.000\n",
      "epoch 141, loss 0.3824, train acc 1.000, test acc 1.000\n",
      "epoch 142, loss 0.3811, train acc 1.000, test acc 1.000\n",
      "epoch 143, loss 0.3799, train acc 1.000, test acc 1.000\n",
      "epoch 144, loss 0.3786, train acc 1.000, test acc 1.000\n",
      "epoch 145, loss 0.3774, train acc 1.000, test acc 1.000\n",
      "epoch 146, loss 0.3761, train acc 1.000, test acc 1.000\n",
      "epoch 147, loss 0.3749, train acc 1.000, test acc 1.000\n",
      "epoch 148, loss 0.3737, train acc 1.000, test acc 1.000\n",
      "epoch 149, loss 0.3725, train acc 1.000, test acc 1.000\n",
      "epoch 150, loss 0.3713, train acc 1.000, test acc 1.000\n",
      "epoch 151, loss 0.3701, train acc 1.000, test acc 1.000\n",
      "epoch 152, loss 0.3689, train acc 1.000, test acc 1.000\n",
      "epoch 153, loss 0.3677, train acc 1.000, test acc 1.000\n",
      "epoch 154, loss 0.3665, train acc 1.000, test acc 1.000\n",
      "epoch 155, loss 0.3654, train acc 1.000, test acc 1.000\n",
      "epoch 156, loss 0.3642, train acc 1.000, test acc 1.000\n",
      "epoch 157, loss 0.3631, train acc 1.000, test acc 1.000\n",
      "epoch 158, loss 0.3619, train acc 1.000, test acc 1.000\n",
      "epoch 159, loss 0.3608, train acc 1.000, test acc 1.000\n",
      "epoch 160, loss 0.3596, train acc 1.000, test acc 1.000\n",
      "epoch 161, loss 0.3585, train acc 1.000, test acc 1.000\n",
      "epoch 162, loss 0.3574, train acc 1.000, test acc 1.000\n",
      "epoch 163, loss 0.3563, train acc 1.000, test acc 1.000\n",
      "epoch 164, loss 0.3552, train acc 1.000, test acc 1.000\n",
      "epoch 165, loss 0.3541, train acc 1.000, test acc 1.000\n",
      "epoch 166, loss 0.3530, train acc 1.000, test acc 1.000\n",
      "epoch 167, loss 0.3519, train acc 1.000, test acc 1.000\n",
      "epoch 168, loss 0.3508, train acc 1.000, test acc 1.000\n",
      "epoch 169, loss 0.3497, train acc 1.000, test acc 1.000\n",
      "epoch 170, loss 0.3487, train acc 1.000, test acc 1.000\n",
      "epoch 171, loss 0.3476, train acc 1.000, test acc 1.000\n",
      "epoch 172, loss 0.3466, train acc 1.000, test acc 1.000\n",
      "epoch 173, loss 0.3455, train acc 1.000, test acc 1.000\n",
      "epoch 174, loss 0.3445, train acc 1.000, test acc 1.000\n",
      "epoch 175, loss 0.3434, train acc 1.000, test acc 1.000\n",
      "epoch 176, loss 0.3424, train acc 1.000, test acc 1.000\n",
      "epoch 177, loss 0.3414, train acc 1.000, test acc 1.000\n",
      "epoch 178, loss 0.3404, train acc 1.000, test acc 1.000\n",
      "epoch 179, loss 0.3394, train acc 1.000, test acc 1.000\n",
      "epoch 180, loss 0.3384, train acc 1.000, test acc 1.000\n",
      "epoch 181, loss 0.3374, train acc 1.000, test acc 1.000\n",
      "epoch 182, loss 0.3364, train acc 1.000, test acc 1.000\n",
      "epoch 183, loss 0.3354, train acc 1.000, test acc 1.000\n",
      "epoch 184, loss 0.3344, train acc 1.000, test acc 1.000\n",
      "epoch 185, loss 0.3334, train acc 1.000, test acc 1.000\n",
      "epoch 186, loss 0.3325, train acc 1.000, test acc 1.000\n",
      "epoch 187, loss 0.3315, train acc 1.000, test acc 1.000\n",
      "epoch 188, loss 0.3305, train acc 1.000, test acc 1.000\n",
      "epoch 189, loss 0.3296, train acc 1.000, test acc 1.000\n",
      "epoch 190, loss 0.3286, train acc 1.000, test acc 1.000\n",
      "epoch 191, loss 0.3277, train acc 1.000, test acc 1.000\n",
      "epoch 192, loss 0.3267, train acc 1.000, test acc 1.000\n",
      "epoch 193, loss 0.3258, train acc 1.000, test acc 1.000\n",
      "epoch 194, loss 0.3249, train acc 1.000, test acc 1.000\n",
      "epoch 195, loss 0.3240, train acc 1.000, test acc 1.000\n",
      "epoch 196, loss 0.3231, train acc 1.000, test acc 1.000\n",
      "epoch 197, loss 0.3221, train acc 1.000, test acc 1.000\n",
      "epoch 198, loss 0.3212, train acc 1.000, test acc 1.000\n",
      "epoch 199, loss 0.3203, train acc 1.000, test acc 1.000\n",
      "epoch 200, loss 0.3194, train acc 1.000, test acc 1.000\n",
      "epoch 201, loss 0.3185, train acc 1.000, test acc 1.000\n",
      "epoch 202, loss 0.3177, train acc 1.000, test acc 1.000\n",
      "epoch 203, loss 0.3168, train acc 1.000, test acc 1.000\n",
      "epoch 204, loss 0.3159, train acc 1.000, test acc 1.000\n",
      "epoch 205, loss 0.3150, train acc 1.000, test acc 1.000\n",
      "epoch 206, loss 0.3142, train acc 1.000, test acc 1.000\n",
      "epoch 207, loss 0.3133, train acc 1.000, test acc 1.000\n",
      "epoch 208, loss 0.3124, train acc 1.000, test acc 1.000\n",
      "epoch 209, loss 0.3116, train acc 1.000, test acc 1.000\n",
      "epoch 210, loss 0.3107, train acc 1.000, test acc 1.000\n",
      "epoch 211, loss 0.3099, train acc 1.000, test acc 1.000\n",
      "epoch 212, loss 0.3091, train acc 1.000, test acc 1.000\n",
      "epoch 213, loss 0.3082, train acc 1.000, test acc 1.000\n",
      "epoch 214, loss 0.3074, train acc 1.000, test acc 1.000\n",
      "epoch 215, loss 0.3066, train acc 1.000, test acc 1.000\n",
      "epoch 216, loss 0.3058, train acc 1.000, test acc 1.000\n",
      "epoch 217, loss 0.3049, train acc 1.000, test acc 1.000\n",
      "epoch 218, loss 0.3041, train acc 1.000, test acc 1.000\n",
      "epoch 219, loss 0.3033, train acc 1.000, test acc 1.000\n",
      "epoch 220, loss 0.3025, train acc 1.000, test acc 1.000\n",
      "epoch 221, loss 0.3017, train acc 1.000, test acc 1.000\n",
      "epoch 222, loss 0.3009, train acc 1.000, test acc 1.000\n",
      "epoch 223, loss 0.3001, train acc 1.000, test acc 1.000\n",
      "epoch 224, loss 0.2993, train acc 1.000, test acc 1.000\n",
      "epoch 225, loss 0.2986, train acc 1.000, test acc 1.000\n",
      "epoch 226, loss 0.2978, train acc 1.000, test acc 1.000\n",
      "epoch 227, loss 0.2970, train acc 1.000, test acc 1.000\n",
      "epoch 228, loss 0.2962, train acc 1.000, test acc 1.000\n",
      "epoch 229, loss 0.2955, train acc 1.000, test acc 1.000\n",
      "epoch 230, loss 0.2947, train acc 1.000, test acc 1.000\n",
      "epoch 231, loss 0.2940, train acc 1.000, test acc 1.000\n",
      "epoch 232, loss 0.2932, train acc 1.000, test acc 1.000\n",
      "epoch 233, loss 0.2924, train acc 1.000, test acc 1.000\n",
      "epoch 234, loss 0.2917, train acc 1.000, test acc 1.000\n",
      "epoch 235, loss 0.2910, train acc 1.000, test acc 1.000\n",
      "epoch 236, loss 0.2902, train acc 1.000, test acc 1.000\n",
      "epoch 237, loss 0.2895, train acc 1.000, test acc 1.000\n",
      "epoch 238, loss 0.2888, train acc 1.000, test acc 1.000\n",
      "epoch 239, loss 0.2880, train acc 1.000, test acc 1.000\n",
      "epoch 240, loss 0.2873, train acc 1.000, test acc 1.000\n",
      "epoch 241, loss 0.2866, train acc 1.000, test acc 1.000\n",
      "epoch 242, loss 0.2859, train acc 1.000, test acc 1.000\n",
      "epoch 243, loss 0.2852, train acc 1.000, test acc 1.000\n",
      "epoch 244, loss 0.2844, train acc 1.000, test acc 1.000\n",
      "epoch 245, loss 0.2837, train acc 1.000, test acc 1.000\n",
      "epoch 246, loss 0.2830, train acc 1.000, test acc 1.000\n",
      "epoch 247, loss 0.2823, train acc 1.000, test acc 1.000\n",
      "epoch 248, loss 0.2817, train acc 1.000, test acc 1.000\n",
      "epoch 249, loss 0.2810, train acc 1.000, test acc 1.000\n",
      "epoch 250, loss 0.2803, train acc 1.000, test acc 1.000\n",
      "epoch 251, loss 0.2796, train acc 1.000, test acc 1.000\n",
      "epoch 252, loss 0.2789, train acc 1.000, test acc 1.000\n",
      "epoch 253, loss 0.2782, train acc 1.000, test acc 1.000\n",
      "epoch 254, loss 0.2776, train acc 1.000, test acc 1.000\n",
      "epoch 255, loss 0.2769, train acc 1.000, test acc 1.000\n",
      "epoch 256, loss 0.2762, train acc 1.000, test acc 1.000\n",
      "epoch 257, loss 0.2756, train acc 1.000, test acc 1.000\n",
      "epoch 258, loss 0.2749, train acc 1.000, test acc 1.000\n",
      "epoch 259, loss 0.2742, train acc 1.000, test acc 1.000\n",
      "epoch 260, loss 0.2736, train acc 1.000, test acc 1.000\n",
      "epoch 261, loss 0.2729, train acc 1.000, test acc 1.000\n",
      "epoch 262, loss 0.2723, train acc 1.000, test acc 1.000\n",
      "epoch 263, loss 0.2716, train acc 1.000, test acc 1.000\n",
      "epoch 264, loss 0.2710, train acc 1.000, test acc 1.000\n",
      "epoch 265, loss 0.2704, train acc 1.000, test acc 1.000\n",
      "epoch 266, loss 0.2697, train acc 1.000, test acc 1.000\n",
      "epoch 267, loss 0.2691, train acc 1.000, test acc 1.000\n",
      "epoch 268, loss 0.2685, train acc 1.000, test acc 1.000\n",
      "epoch 269, loss 0.2678, train acc 1.000, test acc 1.000\n",
      "epoch 270, loss 0.2672, train acc 1.000, test acc 1.000\n",
      "epoch 271, loss 0.2666, train acc 1.000, test acc 1.000\n",
      "epoch 272, loss 0.2660, train acc 1.000, test acc 1.000\n",
      "epoch 273, loss 0.2654, train acc 1.000, test acc 1.000\n",
      "epoch 274, loss 0.2647, train acc 1.000, test acc 1.000\n",
      "epoch 275, loss 0.2641, train acc 1.000, test acc 1.000\n",
      "epoch 276, loss 0.2635, train acc 1.000, test acc 1.000\n",
      "epoch 277, loss 0.2629, train acc 1.000, test acc 1.000\n",
      "epoch 278, loss 0.2623, train acc 1.000, test acc 1.000\n",
      "epoch 279, loss 0.2617, train acc 1.000, test acc 1.000\n",
      "epoch 280, loss 0.2611, train acc 1.000, test acc 1.000\n",
      "epoch 281, loss 0.2605, train acc 1.000, test acc 1.000\n",
      "epoch 282, loss 0.2600, train acc 1.000, test acc 1.000\n",
      "epoch 283, loss 0.2594, train acc 1.000, test acc 1.000\n",
      "epoch 284, loss 0.2588, train acc 1.000, test acc 1.000\n",
      "epoch 285, loss 0.2582, train acc 1.000, test acc 1.000\n",
      "epoch 286, loss 0.2576, train acc 1.000, test acc 1.000\n",
      "epoch 287, loss 0.2571, train acc 1.000, test acc 1.000\n",
      "epoch 288, loss 0.2565, train acc 1.000, test acc 1.000\n",
      "epoch 289, loss 0.2559, train acc 1.000, test acc 1.000\n",
      "epoch 290, loss 0.2553, train acc 1.000, test acc 1.000\n",
      "epoch 291, loss 0.2548, train acc 1.000, test acc 1.000\n",
      "epoch 292, loss 0.2542, train acc 1.000, test acc 1.000\n",
      "epoch 293, loss 0.2537, train acc 1.000, test acc 1.000\n",
      "epoch 294, loss 0.2531, train acc 1.000, test acc 1.000\n",
      "epoch 295, loss 0.2525, train acc 1.000, test acc 1.000\n",
      "epoch 296, loss 0.2520, train acc 1.000, test acc 1.000\n",
      "epoch 297, loss 0.2514, train acc 1.000, test acc 1.000\n",
      "epoch 298, loss 0.2509, train acc 1.000, test acc 1.000\n",
      "epoch 299, loss 0.2504, train acc 1.000, test acc 1.000\n",
      "epoch 300, loss 0.2498, train acc 1.000, test acc 1.000\n"
     ]
    },
    {
     "data": {
      "image/png": "[encoded data removed]",
      "text/plain": [
       "<Figure size 432x288 with 1 Axes>"
      ]
     },
     "metadata": {
      "needs_background": "light"
     },
     "output_type": "display_data"
    }
   ],
   "source": [
    "lr = 0.0005  \n",
    "num_epochs = 300\n",
    "batch_size = 50\n",
    "test_acc,train_acc= [],[]\n",
    "train_loss,test_loss =[],[] \n",
    "W, b = initialize(2)\n",
    "\n",
    "train(test_acc,train_acc,train_loss,test_loss,W, b,num_epochs,batch_size,lr,train_x,train_y,test_x, test_y)\n",
    "\n",
    "plot_loss_curve([train_loss,\"train_loss\"])"
   ]
  },
  {
   "cell_type": "code",
   "execution_count": 320,
   "metadata": {},
   "outputs": [
    {
     "data": {
      "image/png": "[encoded data removed]",
      "text/plain": [
       "<Figure size 432x288 with 1 Axes>"
      ]
     },
     "metadata": {
      "needs_background": "light"
     },
     "output_type": "display_data"
    }
   ],
   "source": [
    "plot_loss_curve([train_acc,\"train_acc\"],[test_acc,\"test_acc\"],ylabel = \"acc\")"
   ]
  },
  {
   "cell_type": "markdown",
   "metadata": {},
   "source": [
    "2. 利用 torch.nn 实现 logistic 回归在人工构造的数据集上进行训练和测试，并对结果进行分析，并从loss以及训练集上的准确率等多个角度对结果进行分析"
   ]
  },
  {
   "cell_type": "code",
   "execution_count": 333,
   "metadata": {},
   "outputs": [],
   "source": [
    "import torch\n",
    "import numpy as np\n",
    "import matplotlib.pyplot as plt\n",
    "import torch.utils.data as Data\n",
    "from torch.nn import init\n",
    "from torch import nn\n",
    "batch_size = 50  \n",
    "dataset = Data.TensorDataset(train_x, train_y)  \n",
    "train_data_iter = Data.DataLoader(dataset=dataset, batch_size=batch_size, shuffle=True, num_workers=0)  \n",
    "dataset = Data.TensorDataset(test_x, test_y)  \n",
    "test_data_iter = Data.DataLoader(dataset=dataset, batch_size=batch_size, shuffle=True, num_workers=0)  \n"
   ]
  },
  {
   "cell_type": "code",
   "execution_count": 334,
   "metadata": {},
   "outputs": [],
   "source": [
    "class Logistic(nn.Module):  \n",
    "    def __init__(self,n_features):  \n",
    "        super(Logistic, self).__init__()  \n",
    "        self.learning_rate = nn.Linear(n_features, 1)  \n",
    "        self.activation_function = nn.Sigmoid()  \n",
    "    \n",
    "    def forward(self, x): \n",
    "        x = self.learning_rate(x)  \n",
    "        x = self.activation_function(x)  \n",
    "        return x  \n"
   ]
  },
  {
   "cell_type": "code",
   "execution_count": 335,
   "metadata": {},
   "outputs": [
    {
     "name": "stdout",
     "output_type": "stream",
     "text": [
      "Parameter containing:\n",
      "tensor([[-0.0079, -0.0092]], requires_grad=True)\n",
      "Parameter containing:\n",
      "tensor([0.], requires_grad=True)\n"
     ]
    }
   ],
   "source": [
    "logistic_model = Logistic(2) \n",
    "loss = nn.BCELoss()  \n",
    "optimizer = torch.optim.SGD(logistic_model.parameters(), lr=1e-3)  \n",
    "init.normal_(logistic_model.learning_rate.weight, mean=0, std=0.01)  \n",
    "init.constant_(logistic_model.learning_rate.bias, val=0) \n",
    "print(logistic_model.learning_rate.weight)  \n",
    "print(logistic_model.learning_rate.bias)  "
   ]
  },
  {
   "cell_type": "code",
   "execution_count": 336,
   "metadata": {},
   "outputs": [],
   "source": [
    "def evaluate_accuracy():  \n",
    "    acc_sum,n,test_l_sum = 0.0,0 ,0 \n",
    "    for testX,testY in train_data_iter: \n",
    "        test_y_pred = logistic_model(testX) \n",
    "        training_loss = loss(test_y_pred, testY.view(-1, 1))  \n",
    "        test_y_pred = torch.squeeze(torch.where(test_y_pred>0.5,torch.tensor(1.0),torch.tensor(0.0)))  \n",
    "        acc_sum += (test_y_pred==testY).float().sum().item()\n",
    "        test_l_sum += training_loss.item()  \n",
    "        n += testY.shape[0]  \n",
    "    return acc_sum/n,test_l_sum/n \n"
   ]
  },
  {
   "cell_type": "code",
   "execution_count": 337,
   "metadata": {},
   "outputs": [],
   "source": [
    "def train(test_acc, train_acc, train_loss, test_loss,epochs):\n",
    "    for i in range(epochs):\n",
    "        train_l_sum, train_acc_sum, n = 0.0,0.0,0  \n",
    "        for trainX, trainY in train_data_iter:\n",
    "            train_y_pred = logistic_model(trainX) \n",
    "            l = loss(train_y_pred, trainY.view(-1, 1))  \n",
    "            optimizer.zero_grad()\n",
    "            l.backward()  \n",
    "            # update model parameters  \n",
    "            optimizer.step()  \n",
    "            #计算每个epoch的loss  \n",
    "            train_l_sum += l.item()  \n",
    "            #计算训练样本的准确率  \n",
    "            train_y_pred = torch.squeeze(torch.where(train_y_pred>0.5,torch.tensor(1.0),torch.tensor(0.0)))  \n",
    "            train_acc_sum += (train_y_pred==trainY).sum().item()  \n",
    "            n += trainY.shape[0]\n",
    "        test_a,test_l = evaluate_accuracy()\n",
    "        test_acc.append(test_a)\n",
    "        test_loss.append(test_l)\n",
    "        train_acc.append(train_acc_sum/n)\n",
    "        train_loss.append(train_l_sum/n)\n",
    "        print('epoch %d, loss %.4f, train acc %.3f, test acc %.3f'\n",
    "            % (i + 1, train_loss[i], train_acc[i], test_acc[i]))\n"
   ]
  },
  {
   "cell_type": "code",
   "execution_count": 338,
   "metadata": {},
   "outputs": [
    {
     "name": "stdout",
     "output_type": "stream",
     "text": [
      "epoch 1, loss 0.0168, train acc 1.000, test acc 1.000\n",
      "epoch 2, loss 0.0166, train acc 1.000, test acc 1.000\n",
      "epoch 3, loss 0.0164, train acc 1.000, test acc 1.000\n",
      "epoch 4, loss 0.0161, train acc 1.000, test acc 1.000\n",
      "epoch 5, loss 0.0160, train acc 1.000, test acc 1.000\n",
      "epoch 6, loss 0.0158, train acc 1.000, test acc 1.000\n",
      "epoch 7, loss 0.0157, train acc 1.000, test acc 1.000\n",
      "epoch 8, loss 0.0154, train acc 1.000, test acc 1.000\n",
      "epoch 9, loss 0.0152, train acc 1.000, test acc 1.000\n",
      "epoch 10, loss 0.0150, train acc 1.000, test acc 1.000\n",
      "epoch 11, loss 0.0149, train acc 1.000, test acc 1.000\n",
      "epoch 12, loss 0.0147, train acc 1.000, test acc 1.000\n",
      "epoch 13, loss 0.0146, train acc 1.000, test acc 1.000\n",
      "epoch 14, loss 0.0144, train acc 1.000, test acc 1.000\n",
      "epoch 15, loss 0.0141, train acc 1.000, test acc 1.000\n",
      "epoch 16, loss 0.0140, train acc 1.000, test acc 1.000\n",
      "epoch 17, loss 0.0137, train acc 1.000, test acc 1.000\n",
      "epoch 18, loss 0.0138, train acc 1.000, test acc 1.000\n",
      "epoch 19, loss 0.0135, train acc 1.000, test acc 1.000\n",
      "epoch 20, loss 0.0133, train acc 1.000, test acc 1.000\n",
      "epoch 21, loss 0.0133, train acc 1.000, test acc 1.000\n",
      "epoch 22, loss 0.0130, train acc 1.000, test acc 1.000\n",
      "epoch 23, loss 0.0130, train acc 1.000, test acc 1.000\n",
      "epoch 24, loss 0.0128, train acc 1.000, test acc 1.000\n",
      "epoch 25, loss 0.0128, train acc 1.000, test acc 1.000\n",
      "epoch 26, loss 0.0127, train acc 1.000, test acc 1.000\n",
      "epoch 27, loss 0.0124, train acc 1.000, test acc 1.000\n",
      "epoch 28, loss 0.0124, train acc 1.000, test acc 1.000\n",
      "epoch 29, loss 0.0121, train acc 1.000, test acc 1.000\n",
      "epoch 30, loss 0.0120, train acc 1.000, test acc 1.000\n",
      "epoch 31, loss 0.0119, train acc 1.000, test acc 1.000\n",
      "epoch 32, loss 0.0119, train acc 1.000, test acc 1.000\n",
      "epoch 33, loss 0.0116, train acc 1.000, test acc 1.000\n",
      "epoch 34, loss 0.0116, train acc 1.000, test acc 1.000\n",
      "epoch 35, loss 0.0114, train acc 1.000, test acc 1.000\n",
      "epoch 36, loss 0.0113, train acc 1.000, test acc 1.000\n",
      "epoch 37, loss 0.0112, train acc 1.000, test acc 1.000\n",
      "epoch 38, loss 0.0112, train acc 1.000, test acc 1.000\n",
      "epoch 39, loss 0.0108, train acc 1.000, test acc 1.000\n",
      "epoch 40, loss 0.0110, train acc 1.000, test acc 1.000\n",
      "epoch 41, loss 0.0109, train acc 1.000, test acc 1.000\n",
      "epoch 42, loss 0.0106, train acc 1.000, test acc 1.000\n",
      "epoch 43, loss 0.0107, train acc 1.000, test acc 1.000\n",
      "epoch 44, loss 0.0106, train acc 1.000, test acc 1.000\n",
      "epoch 45, loss 0.0104, train acc 1.000, test acc 1.000\n",
      "epoch 46, loss 0.0104, train acc 1.000, test acc 1.000\n",
      "epoch 47, loss 0.0102, train acc 1.000, test acc 1.000\n",
      "epoch 48, loss 0.0101, train acc 1.000, test acc 1.000\n",
      "epoch 49, loss 0.0101, train acc 1.000, test acc 1.000\n",
      "epoch 50, loss 0.0103, train acc 1.000, test acc 1.000\n",
      "epoch 51, loss 0.0098, train acc 1.000, test acc 1.000\n",
      "epoch 52, loss 0.0097, train acc 1.000, test acc 1.000\n",
      "epoch 53, loss 0.0096, train acc 1.000, test acc 1.000\n",
      "epoch 54, loss 0.0098, train acc 1.000, test acc 1.000\n",
      "epoch 55, loss 0.0096, train acc 1.000, test acc 1.000\n",
      "epoch 56, loss 0.0092, train acc 1.000, test acc 1.000\n",
      "epoch 57, loss 0.0093, train acc 1.000, test acc 1.000\n",
      "epoch 58, loss 0.0091, train acc 1.000, test acc 1.000\n",
      "epoch 59, loss 0.0096, train acc 1.000, test acc 1.000\n",
      "epoch 60, loss 0.0091, train acc 1.000, test acc 1.000\n",
      "epoch 61, loss 0.0088, train acc 1.000, test acc 1.000\n",
      "epoch 62, loss 0.0090, train acc 1.000, test acc 1.000\n",
      "epoch 63, loss 0.0089, train acc 1.000, test acc 1.000\n",
      "epoch 64, loss 0.0089, train acc 1.000, test acc 1.000\n",
      "epoch 65, loss 0.0089, train acc 1.000, test acc 1.000\n",
      "epoch 66, loss 0.0085, train acc 1.000, test acc 1.000\n",
      "epoch 67, loss 0.0086, train acc 1.000, test acc 1.000\n",
      "epoch 68, loss 0.0087, train acc 1.000, test acc 1.000\n",
      "epoch 69, loss 0.0086, train acc 1.000, test acc 1.000\n",
      "epoch 70, loss 0.0087, train acc 1.000, test acc 1.000\n",
      "epoch 71, loss 0.0083, train acc 1.000, test acc 1.000\n",
      "epoch 72, loss 0.0083, train acc 1.000, test acc 1.000\n",
      "epoch 73, loss 0.0083, train acc 1.000, test acc 1.000\n",
      "epoch 74, loss 0.0082, train acc 1.000, test acc 1.000\n",
      "epoch 75, loss 0.0082, train acc 1.000, test acc 1.000\n",
      "epoch 76, loss 0.0082, train acc 1.000, test acc 1.000\n",
      "epoch 77, loss 0.0083, train acc 1.000, test acc 1.000\n",
      "epoch 78, loss 0.0083, train acc 1.000, test acc 1.000\n",
      "epoch 79, loss 0.0081, train acc 1.000, test acc 1.000\n",
      "epoch 80, loss 0.0080, train acc 1.000, test acc 1.000\n",
      "epoch 81, loss 0.0080, train acc 1.000, test acc 1.000\n",
      "epoch 82, loss 0.0078, train acc 1.000, test acc 1.000\n",
      "epoch 83, loss 0.0078, train acc 1.000, test acc 1.000\n",
      "epoch 84, loss 0.0077, train acc 1.000, test acc 1.000\n",
      "epoch 85, loss 0.0078, train acc 1.000, test acc 1.000\n",
      "epoch 86, loss 0.0075, train acc 1.000, test acc 1.000\n",
      "epoch 87, loss 0.0076, train acc 1.000, test acc 1.000\n",
      "epoch 88, loss 0.0076, train acc 1.000, test acc 1.000\n",
      "epoch 89, loss 0.0073, train acc 1.000, test acc 1.000\n",
      "epoch 90, loss 0.0074, train acc 1.000, test acc 1.000\n",
      "epoch 91, loss 0.0075, train acc 1.000, test acc 1.000\n",
      "epoch 92, loss 0.0073, train acc 1.000, test acc 1.000\n",
      "epoch 93, loss 0.0070, train acc 1.000, test acc 1.000\n",
      "epoch 94, loss 0.0073, train acc 1.000, test acc 1.000\n",
      "epoch 95, loss 0.0070, train acc 1.000, test acc 1.000\n",
      "epoch 96, loss 0.0072, train acc 1.000, test acc 1.000\n",
      "epoch 97, loss 0.0071, train acc 1.000, test acc 1.000\n",
      "epoch 98, loss 0.0071, train acc 1.000, test acc 1.000\n",
      "epoch 99, loss 0.0071, train acc 1.000, test acc 1.000\n",
      "epoch 100, loss 0.0071, train acc 1.000, test acc 1.000\n",
      "epoch 101, loss 0.0068, train acc 1.000, test acc 1.000\n",
      "epoch 102, loss 0.0069, train acc 1.000, test acc 1.000\n",
      "epoch 103, loss 0.0070, train acc 1.000, test acc 1.000\n",
      "epoch 104, loss 0.0070, train acc 1.000, test acc 1.000\n",
      "epoch 105, loss 0.0068, train acc 1.000, test acc 1.000\n",
      "epoch 106, loss 0.0068, train acc 1.000, test acc 1.000\n",
      "epoch 107, loss 0.0070, train acc 1.000, test acc 1.000\n",
      "epoch 108, loss 0.0066, train acc 1.000, test acc 1.000\n",
      "epoch 109, loss 0.0066, train acc 1.000, test acc 1.000\n",
      "epoch 110, loss 0.0069, train acc 1.000, test acc 1.000\n",
      "epoch 111, loss 0.0065, train acc 1.000, test acc 1.000\n",
      "epoch 112, loss 0.0065, train acc 1.000, test acc 1.000\n",
      "epoch 113, loss 0.0064, train acc 1.000, test acc 1.000\n",
      "epoch 114, loss 0.0062, train acc 1.000, test acc 1.000\n",
      "epoch 115, loss 0.0062, train acc 1.000, test acc 1.000\n",
      "epoch 116, loss 0.0063, train acc 1.000, test acc 1.000\n",
      "epoch 117, loss 0.0064, train acc 1.000, test acc 1.000\n",
      "epoch 118, loss 0.0061, train acc 1.000, test acc 1.000\n",
      "epoch 119, loss 0.0064, train acc 1.000, test acc 1.000\n",
      "epoch 120, loss 0.0062, train acc 1.000, test acc 1.000\n",
      "epoch 121, loss 0.0059, train acc 1.000, test acc 1.000\n",
      "epoch 122, loss 0.0060, train acc 1.000, test acc 1.000\n",
      "epoch 123, loss 0.0061, train acc 1.000, test acc 1.000\n",
      "epoch 124, loss 0.0058, train acc 1.000, test acc 1.000\n",
      "epoch 125, loss 0.0061, train acc 1.000, test acc 1.000\n",
      "epoch 126, loss 0.0060, train acc 1.000, test acc 1.000\n",
      "epoch 127, loss 0.0059, train acc 1.000, test acc 1.000\n",
      "epoch 128, loss 0.0059, train acc 1.000, test acc 1.000\n",
      "epoch 129, loss 0.0062, train acc 1.000, test acc 1.000\n",
      "epoch 130, loss 0.0056, train acc 1.000, test acc 1.000\n",
      "epoch 131, loss 0.0059, train acc 1.000, test acc 1.000\n",
      "epoch 132, loss 0.0057, train acc 1.000, test acc 1.000\n",
      "epoch 133, loss 0.0060, train acc 1.000, test acc 1.000\n",
      "epoch 134, loss 0.0057, train acc 1.000, test acc 1.000\n",
      "epoch 135, loss 0.0057, train acc 1.000, test acc 1.000\n",
      "epoch 136, loss 0.0054, train acc 1.000, test acc 1.000\n",
      "epoch 137, loss 0.0057, train acc 1.000, test acc 1.000\n",
      "epoch 138, loss 0.0061, train acc 1.000, test acc 1.000\n",
      "epoch 139, loss 0.0057, train acc 1.000, test acc 1.000\n",
      "epoch 140, loss 0.0060, train acc 1.000, test acc 1.000\n",
      "epoch 141, loss 0.0058, train acc 1.000, test acc 1.000\n",
      "epoch 142, loss 0.0056, train acc 1.000, test acc 1.000\n",
      "epoch 143, loss 0.0058, train acc 1.000, test acc 1.000\n",
      "epoch 144, loss 0.0054, train acc 1.000, test acc 1.000\n",
      "epoch 145, loss 0.0055, train acc 1.000, test acc 1.000\n",
      "epoch 146, loss 0.0055, train acc 1.000, test acc 1.000\n",
      "epoch 147, loss 0.0055, train acc 1.000, test acc 1.000\n",
      "epoch 148, loss 0.0053, train acc 1.000, test acc 1.000\n",
      "epoch 149, loss 0.0053, train acc 1.000, test acc 1.000\n",
      "epoch 150, loss 0.0052, train acc 1.000, test acc 1.000\n",
      "epoch 151, loss 0.0052, train acc 1.000, test acc 1.000\n",
      "epoch 152, loss 0.0056, train acc 1.000, test acc 1.000\n",
      "epoch 153, loss 0.0052, train acc 1.000, test acc 1.000\n",
      "epoch 154, loss 0.0051, train acc 1.000, test acc 1.000\n",
      "epoch 155, loss 0.0052, train acc 1.000, test acc 1.000\n",
      "epoch 156, loss 0.0052, train acc 1.000, test acc 1.000\n",
      "epoch 157, loss 0.0050, train acc 1.000, test acc 1.000\n",
      "epoch 158, loss 0.0050, train acc 1.000, test acc 1.000\n",
      "epoch 159, loss 0.0051, train acc 1.000, test acc 1.000\n",
      "epoch 160, loss 0.0050, train acc 1.000, test acc 1.000\n",
      "epoch 161, loss 0.0052, train acc 1.000, test acc 1.000\n",
      "epoch 162, loss 0.0049, train acc 1.000, test acc 1.000\n",
      "epoch 163, loss 0.0051, train acc 1.000, test acc 1.000\n",
      "epoch 164, loss 0.0049, train acc 1.000, test acc 1.000\n",
      "epoch 165, loss 0.0050, train acc 1.000, test acc 1.000\n",
      "epoch 166, loss 0.0049, train acc 1.000, test acc 1.000\n",
      "epoch 167, loss 0.0048, train acc 1.000, test acc 1.000\n",
      "epoch 168, loss 0.0050, train acc 1.000, test acc 1.000\n",
      "epoch 169, loss 0.0050, train acc 1.000, test acc 1.000\n",
      "epoch 170, loss 0.0048, train acc 1.000, test acc 1.000\n",
      "epoch 171, loss 0.0050, train acc 1.000, test acc 1.000\n",
      "epoch 172, loss 0.0048, train acc 1.000, test acc 1.000\n",
      "epoch 173, loss 0.0047, train acc 1.000, test acc 1.000\n",
      "epoch 174, loss 0.0047, train acc 1.000, test acc 1.000\n",
      "epoch 175, loss 0.0049, train acc 1.000, test acc 1.000\n",
      "epoch 176, loss 0.0049, train acc 1.000, test acc 1.000\n",
      "epoch 177, loss 0.0048, train acc 1.000, test acc 1.000\n",
      "epoch 178, loss 0.0047, train acc 1.000, test acc 1.000\n",
      "epoch 179, loss 0.0047, train acc 1.000, test acc 1.000\n",
      "epoch 180, loss 0.0048, train acc 1.000, test acc 1.000\n",
      "epoch 181, loss 0.0047, train acc 1.000, test acc 1.000\n",
      "epoch 182, loss 0.0047, train acc 1.000, test acc 1.000\n",
      "epoch 183, loss 0.0043, train acc 1.000, test acc 1.000\n",
      "epoch 184, loss 0.0046, train acc 1.000, test acc 1.000\n",
      "epoch 185, loss 0.0045, train acc 1.000, test acc 1.000\n",
      "epoch 186, loss 0.0046, train acc 1.000, test acc 1.000\n",
      "epoch 187, loss 0.0046, train acc 1.000, test acc 1.000\n",
      "epoch 188, loss 0.0045, train acc 1.000, test acc 1.000\n",
      "epoch 189, loss 0.0046, train acc 1.000, test acc 1.000\n",
      "epoch 190, loss 0.0043, train acc 1.000, test acc 1.000\n",
      "epoch 191, loss 0.0046, train acc 1.000, test acc 1.000\n",
      "epoch 192, loss 0.0045, train acc 1.000, test acc 1.000\n",
      "epoch 193, loss 0.0044, train acc 1.000, test acc 1.000\n",
      "epoch 194, loss 0.0046, train acc 1.000, test acc 1.000\n",
      "epoch 195, loss 0.0042, train acc 1.000, test acc 1.000\n",
      "epoch 196, loss 0.0044, train acc 1.000, test acc 1.000\n",
      "epoch 197, loss 0.0044, train acc 1.000, test acc 1.000\n",
      "epoch 198, loss 0.0043, train acc 1.000, test acc 1.000\n",
      "epoch 199, loss 0.0042, train acc 1.000, test acc 1.000\n",
      "epoch 200, loss 0.0042, train acc 1.000, test acc 1.000\n",
      "epoch 201, loss 0.0041, train acc 1.000, test acc 1.000\n",
      "epoch 202, loss 0.0046, train acc 1.000, test acc 1.000\n",
      "epoch 203, loss 0.0044, train acc 1.000, test acc 1.000\n",
      "epoch 204, loss 0.0044, train acc 1.000, test acc 1.000\n",
      "epoch 205, loss 0.0044, train acc 1.000, test acc 1.000\n",
      "epoch 206, loss 0.0043, train acc 1.000, test acc 1.000\n",
      "epoch 207, loss 0.0043, train acc 1.000, test acc 1.000\n",
      "epoch 208, loss 0.0043, train acc 1.000, test acc 1.000\n",
      "epoch 209, loss 0.0044, train acc 1.000, test acc 1.000\n",
      "epoch 210, loss 0.0042, train acc 1.000, test acc 1.000\n",
      "epoch 211, loss 0.0043, train acc 1.000, test acc 1.000\n",
      "epoch 212, loss 0.0041, train acc 1.000, test acc 1.000\n",
      "epoch 213, loss 0.0042, train acc 1.000, test acc 1.000\n",
      "epoch 214, loss 0.0042, train acc 1.000, test acc 1.000\n",
      "epoch 215, loss 0.0040, train acc 1.000, test acc 1.000\n",
      "epoch 216, loss 0.0041, train acc 1.000, test acc 1.000\n",
      "epoch 217, loss 0.0043, train acc 1.000, test acc 1.000\n",
      "epoch 218, loss 0.0041, train acc 1.000, test acc 1.000\n",
      "epoch 219, loss 0.0040, train acc 1.000, test acc 1.000\n",
      "epoch 220, loss 0.0041, train acc 1.000, test acc 1.000\n",
      "epoch 221, loss 0.0041, train acc 1.000, test acc 1.000\n",
      "epoch 222, loss 0.0039, train acc 1.000, test acc 1.000\n",
      "epoch 223, loss 0.0041, train acc 1.000, test acc 1.000\n",
      "epoch 224, loss 0.0040, train acc 1.000, test acc 1.000\n",
      "epoch 225, loss 0.0039, train acc 1.000, test acc 1.000\n",
      "epoch 226, loss 0.0040, train acc 1.000, test acc 1.000\n",
      "epoch 227, loss 0.0039, train acc 1.000, test acc 1.000\n",
      "epoch 228, loss 0.0040, train acc 1.000, test acc 1.000\n",
      "epoch 229, loss 0.0037, train acc 1.000, test acc 1.000\n",
      "epoch 230, loss 0.0041, train acc 1.000, test acc 1.000\n",
      "epoch 231, loss 0.0039, train acc 1.000, test acc 1.000\n",
      "epoch 232, loss 0.0039, train acc 1.000, test acc 1.000\n",
      "epoch 233, loss 0.0038, train acc 1.000, test acc 1.000\n",
      "epoch 234, loss 0.0041, train acc 1.000, test acc 1.000\n",
      "epoch 235, loss 0.0039, train acc 1.000, test acc 1.000\n",
      "epoch 236, loss 0.0040, train acc 1.000, test acc 1.000\n",
      "epoch 237, loss 0.0040, train acc 1.000, test acc 1.000\n",
      "epoch 238, loss 0.0040, train acc 1.000, test acc 1.000\n",
      "epoch 239, loss 0.0038, train acc 1.000, test acc 1.000\n",
      "epoch 240, loss 0.0038, train acc 1.000, test acc 1.000\n",
      "epoch 241, loss 0.0041, train acc 1.000, test acc 1.000\n",
      "epoch 242, loss 0.0037, train acc 1.000, test acc 1.000\n",
      "epoch 243, loss 0.0038, train acc 1.000, test acc 1.000\n",
      "epoch 244, loss 0.0037, train acc 1.000, test acc 1.000\n",
      "epoch 245, loss 0.0036, train acc 1.000, test acc 1.000\n",
      "epoch 246, loss 0.0039, train acc 1.000, test acc 1.000\n",
      "epoch 247, loss 0.0039, train acc 1.000, test acc 1.000\n",
      "epoch 248, loss 0.0038, train acc 1.000, test acc 1.000\n",
      "epoch 249, loss 0.0036, train acc 1.000, test acc 1.000\n",
      "epoch 250, loss 0.0040, train acc 1.000, test acc 1.000\n",
      "epoch 251, loss 0.0038, train acc 1.000, test acc 1.000\n",
      "epoch 252, loss 0.0036, train acc 1.000, test acc 1.000\n",
      "epoch 253, loss 0.0035, train acc 1.000, test acc 1.000\n",
      "epoch 254, loss 0.0036, train acc 1.000, test acc 1.000\n",
      "epoch 255, loss 0.0038, train acc 1.000, test acc 1.000\n",
      "epoch 256, loss 0.0038, train acc 1.000, test acc 1.000\n",
      "epoch 257, loss 0.0037, train acc 1.000, test acc 1.000\n",
      "epoch 258, loss 0.0036, train acc 1.000, test acc 1.000\n",
      "epoch 259, loss 0.0036, train acc 1.000, test acc 1.000\n",
      "epoch 260, loss 0.0035, train acc 1.000, test acc 1.000\n",
      "epoch 261, loss 0.0039, train acc 1.000, test acc 1.000\n",
      "epoch 262, loss 0.0035, train acc 1.000, test acc 1.000\n",
      "epoch 263, loss 0.0033, train acc 1.000, test acc 1.000\n",
      "epoch 264, loss 0.0036, train acc 1.000, test acc 1.000\n",
      "epoch 265, loss 0.0035, train acc 1.000, test acc 1.000\n",
      "epoch 266, loss 0.0035, train acc 1.000, test acc 1.000\n",
      "epoch 267, loss 0.0035, train acc 1.000, test acc 1.000\n",
      "epoch 268, loss 0.0036, train acc 1.000, test acc 1.000\n",
      "epoch 269, loss 0.0036, train acc 1.000, test acc 1.000\n",
      "epoch 270, loss 0.0033, train acc 1.000, test acc 1.000\n",
      "epoch 271, loss 0.0037, train acc 1.000, test acc 1.000\n",
      "epoch 272, loss 0.0035, train acc 1.000, test acc 1.000\n",
      "epoch 273, loss 0.0032, train acc 1.000, test acc 1.000\n",
      "epoch 274, loss 0.0037, train acc 1.000, test acc 1.000\n",
      "epoch 275, loss 0.0034, train acc 1.000, test acc 1.000\n",
      "epoch 276, loss 0.0034, train acc 1.000, test acc 1.000\n",
      "epoch 277, loss 0.0036, train acc 1.000, test acc 1.000\n",
      "epoch 278, loss 0.0036, train acc 1.000, test acc 1.000\n",
      "epoch 279, loss 0.0033, train acc 1.000, test acc 1.000\n",
      "epoch 280, loss 0.0035, train acc 1.000, test acc 1.000\n",
      "epoch 281, loss 0.0035, train acc 1.000, test acc 1.000\n",
      "epoch 282, loss 0.0035, train acc 1.000, test acc 1.000\n",
      "epoch 283, loss 0.0033, train acc 1.000, test acc 1.000\n",
      "epoch 284, loss 0.0034, train acc 1.000, test acc 1.000\n",
      "epoch 285, loss 0.0032, train acc 1.000, test acc 1.000\n",
      "epoch 286, loss 0.0035, train acc 1.000, test acc 1.000\n",
      "epoch 287, loss 0.0033, train acc 1.000, test acc 1.000\n",
      "epoch 288, loss 0.0032, train acc 1.000, test acc 1.000\n",
      "epoch 289, loss 0.0036, train acc 1.000, test acc 1.000\n",
      "epoch 290, loss 0.0033, train acc 1.000, test acc 1.000\n",
      "epoch 291, loss 0.0032, train acc 1.000, test acc 1.000\n",
      "epoch 292, loss 0.0033, train acc 1.000, test acc 1.000\n",
      "epoch 293, loss 0.0034, train acc 1.000, test acc 1.000\n",
      "epoch 294, loss 0.0032, train acc 1.000, test acc 1.000\n",
      "epoch 295, loss 0.0033, train acc 1.000, test acc 1.000\n",
      "epoch 296, loss 0.0034, train acc 1.000, test acc 1.000\n",
      "epoch 297, loss 0.0033, train acc 1.000, test acc 1.000\n",
      "epoch 298, loss 0.0034, train acc 1.000, test acc 1.000\n",
      "epoch 299, loss 0.0032, train acc 1.000, test acc 1.000\n",
      "epoch 300, loss 0.0032, train acc 1.000, test acc 1.000\n"
     ]
    },
    {
     "data": {
      "image/png": "[encoded data removed]",
      "text/plain": [
       "<Figure size 432x288 with 1 Axes>"
      ]
     },
     "metadata": {
      "needs_background": "light"
     },
     "output_type": "display_data"
    }
   ],
   "source": [
    "lr = 0.0005  \n",
    "num_epochs = 300\n",
    "batch_size = 50\n",
    "test_acc,train_acc= [],[]\n",
    "train_loss,test_loss =[],[] \n",
    "W, b = initialize(2)\n",
    "\n",
    "train(test_acc,train_acc,train_loss,test_loss,num_epochs)\n",
    "\n",
    "plot_loss_curve([train_loss,\"train_loss\"])"
   ]
  },
  {
   "cell_type": "code",
   "execution_count": 339,
   "metadata": {},
   "outputs": [
    {
     "data": {
      "image/png": "[encoded data removed]",
      "text/plain": [
       "<Figure size 432x288 with 1 Axes>"
      ]
     },
     "metadata": {
      "needs_background": "light"
     },
     "output_type": "display_data"
    }
   ],
   "source": [
    "plot_loss_curve([train_acc,\"train_acc\"],[test_acc,\"test_acc\"],ylabel = \"acc\")"
   ]
  },
  {
   "cell_type": "markdown",
   "metadata": {},
   "source": [
    "三、动手实现 softmax 回归"
   ]
  },
  {
   "cell_type": "markdown",
   "metadata": {},
   "source": [
    "1. 要求动手从0实现 softmax 回归（只借助Tensor和Numpy相关的库）在Fashion-MNIST数据集上进行训练和测试，并从loss、训练集以及测试集上的准确率等多个角度对结果进行分析（要求从零实现交叉熵损失函数）"
   ]
  },
  {
   "cell_type": "code",
   "execution_count": 363,
   "metadata": {},
   "outputs": [],
   "source": [
    "import torch\n",
    "import numpy as np\n",
    "import matplotlib.pyplot as plt\n",
    "import torch.utils.data as Data\n",
    "from torch.nn import init\n",
    "from torch import nn\n",
    "from torchvision import transforms as transforms\n",
    "import torchvision\n",
    "from torch.utils.data import DataLoader\n",
    "\n",
    "batch_size = 256\n",
    "mnist_train = torchvision.datasets.FashionMNIST(root='../Datasets/FashionMNIST', train=True, download=True, transform=transforms.ToTensor())\n",
    "mnist_test = torchvision.datasets.FashionMNIST(root='../Datasets/FashionMNIST', train=False, download=True, transform=transforms.ToTensor())\n",
    "train_iter = torch.utils.data.DataLoader(mnist_train, batch_size=batch_size, shuffle=True, num_workers=0)\n",
    "test_iter = torch.utils.data.DataLoader(mnist_test, batch_size=batch_size, shuffle=False, num_workers=0)\n"
   ]
  },
  {
   "cell_type": "code",
   "execution_count": 364,
   "metadata": {},
   "outputs": [],
   "source": [
    "def cross_entropy(y_true, y_pred):\n",
    "    return - torch.log(y_pred.gather(1,y_true.view(-1,1)))\n",
    "\n",
    "def sgd(params, lr, batch_size):\n",
    "    for param in params:\n",
    "        param.data -= lr * param.grad / batch_size "
   ]
  },
  {
   "cell_type": "code",
   "execution_count": 365,
   "metadata": {},
   "outputs": [],
   "source": [
    "def initialize(m, n):\n",
    "    num_inputs = m\n",
    "    num_outputs = n\n",
    "    W = torch.tensor(np.random.normal(0,0.01,(num_inputs,num_outputs)),dtype=torch.float) \n",
    "    b = torch.zeros(num_outputs,dtype=torch.float) \n",
    "    W.requires_grad_(requires_grad=True)\n",
    "    b.requires_grad_(requires_grad=True)\n",
    "\n",
    "    return W, b"
   ]
  },
  {
   "cell_type": "code",
   "execution_count": 366,
   "metadata": {},
   "outputs": [],
   "source": [
    "def softmax(X):\n",
    "    X_exp = X.exp() \n",
    "    partition = X_exp.sum(dim=1, keepdim=True)\n",
    "    return X_exp / partition "
   ]
  },
  {
   "cell_type": "code",
   "execution_count": 367,
   "metadata": {},
   "outputs": [],
   "source": [
    "def linear_combination(X, W, b, m):\n",
    "    Z = torch.mm(X.view((-1,m)), W) + b \n",
    "    return Z"
   ]
  },
  {
   "cell_type": "code",
   "execution_count": 368,
   "metadata": {},
   "outputs": [],
   "source": [
    "def forward(X, W, b, m):\n",
    "    Z = linear_combination(X, W, b, m) \n",
    "    y_pred = softmax(Z) \n",
    "    return y_pred"
   ]
  },
  {
   "cell_type": "code",
   "execution_count": 383,
   "metadata": {},
   "outputs": [],
   "source": [
    "def evaluate_accuracy(data_iter, m, W, b):  \n",
    "    acc_sum,n,test_l_sum = 0.0,0 ,0 \n",
    "    for testX, testY in data_iter: \n",
    "        acc_sum += (forward(testX, W, b, m).argmax(dim = 1) == testY).float().sum().item()\n",
    "        l = cross_entropy(testY,forward(testX, W, b, m)).sum()\n",
    "        test_l_sum += l.item()  \n",
    "        n += testY.shape[0]  \n",
    "    return acc_sum/n,test_l_sum/n \n"
   ]
  },
  {
   "cell_type": "code",
   "execution_count": 384,
   "metadata": {},
   "outputs": [],
   "source": [
    "def train(test_acc, train_acc, train_loss, test_loss, W, b, epochs, batch_size, learning_rate ,data_iter, m):\n",
    "    for i in range(epochs):\n",
    "        train_l_sum, train_acc_sum, n = 0.0,0.0,0  \n",
    "        for trainX, trainY in train_iter:\n",
    "            train_y_pred = forward(trainX, W, b, m) \n",
    "            training_loss = cross_entropy(trainY, train_y_pred).sum()\n",
    "            training_loss.backward()\n",
    "            update([W,b],batch_size,learning_rate)\n",
    "            W.grad.data.zero_()   \n",
    "            b.grad.data.zero_() \n",
    "            train_l_sum += training_loss.item()  \n",
    "            train_acc_sum += (train_y_pred.argmax(dim=1)==trainY).sum().item()  \n",
    "            n += trainY.shape[0] \n",
    "        test_a,test_l = evaluate_accuracy(test_iter, m, W, b)\n",
    "        test_acc.append(test_a)\n",
    "        test_loss.append(test_l)\n",
    "        train_acc.append(train_acc_sum/n)\n",
    "        train_loss.append(train_l_sum/n)\n",
    "        print('epoch %d, loss %.4f, train acc %.3f, test acc %.3f'\n",
    "            % (i + 1, train_loss[i], train_acc[i], test_acc[i]))\n"
   ]
  },
  {
   "cell_type": "code",
   "execution_count": 385,
   "metadata": {},
   "outputs": [
    {
     "name": "stdout",
     "output_type": "stream",
     "text": [
      "epoch 1, loss 2.1734, train acc 0.317, test acc 0.495\n",
      "epoch 2, loss 1.9692, train acc 0.585, test acc 0.625\n",
      "epoch 3, loss 1.8132, train acc 0.644, test acc 0.642\n",
      "epoch 4, loss 1.6877, train acc 0.655, test acc 0.648\n",
      "epoch 5, loss 1.5853, train acc 0.659, test acc 0.653\n",
      "epoch 6, loss 1.5006, train acc 0.662, test acc 0.655\n",
      "epoch 7, loss 1.4297, train acc 0.663, test acc 0.656\n",
      "epoch 8, loss 1.3697, train acc 0.665, test acc 0.657\n",
      "epoch 9, loss 1.3183, train acc 0.666, test acc 0.659\n",
      "epoch 10, loss 1.2738, train acc 0.668, test acc 0.660\n",
      "epoch 11, loss 1.2349, train acc 0.669, test acc 0.662\n",
      "epoch 12, loss 1.2006, train acc 0.671, test acc 0.664\n",
      "epoch 13, loss 1.1702, train acc 0.673, test acc 0.666\n",
      "epoch 14, loss 1.1429, train acc 0.676, test acc 0.668\n",
      "epoch 15, loss 1.1184, train acc 0.678, test acc 0.670\n",
      "epoch 16, loss 1.0961, train acc 0.681, test acc 0.673\n",
      "epoch 17, loss 1.0759, train acc 0.684, test acc 0.674\n",
      "epoch 18, loss 1.0573, train acc 0.686, test acc 0.676\n",
      "epoch 19, loss 1.0403, train acc 0.688, test acc 0.678\n",
      "epoch 20, loss 1.0246, train acc 0.691, test acc 0.681\n",
      "epoch 21, loss 1.0100, train acc 0.693, test acc 0.685\n",
      "epoch 22, loss 0.9965, train acc 0.696, test acc 0.687\n",
      "epoch 23, loss 0.9838, train acc 0.699, test acc 0.690\n",
      "epoch 24, loss 0.9720, train acc 0.703, test acc 0.691\n",
      "epoch 25, loss 0.9609, train acc 0.705, test acc 0.694\n",
      "epoch 26, loss 0.9505, train acc 0.708, test acc 0.697\n",
      "epoch 27, loss 0.9406, train acc 0.710, test acc 0.699\n",
      "epoch 28, loss 0.9313, train acc 0.713, test acc 0.702\n",
      "epoch 29, loss 0.9225, train acc 0.716, test acc 0.703\n",
      "epoch 30, loss 0.9141, train acc 0.718, test acc 0.706\n",
      "epoch 31, loss 0.9062, train acc 0.721, test acc 0.708\n",
      "epoch 32, loss 0.8986, train acc 0.723, test acc 0.711\n",
      "epoch 33, loss 0.8914, train acc 0.725, test acc 0.712\n",
      "epoch 34, loss 0.8845, train acc 0.727, test acc 0.714\n",
      "epoch 35, loss 0.8779, train acc 0.729, test acc 0.715\n",
      "epoch 36, loss 0.8715, train acc 0.731, test acc 0.717\n",
      "epoch 37, loss 0.8654, train acc 0.733, test acc 0.719\n",
      "epoch 38, loss 0.8596, train acc 0.735, test acc 0.720\n",
      "epoch 39, loss 0.8540, train acc 0.736, test acc 0.722\n",
      "epoch 40, loss 0.8486, train acc 0.738, test acc 0.724\n",
      "epoch 41, loss 0.8434, train acc 0.740, test acc 0.726\n",
      "epoch 42, loss 0.8384, train acc 0.741, test acc 0.728\n",
      "epoch 43, loss 0.8335, train acc 0.743, test acc 0.729\n",
      "epoch 44, loss 0.8288, train acc 0.744, test acc 0.730\n",
      "epoch 45, loss 0.8243, train acc 0.745, test acc 0.731\n",
      "epoch 46, loss 0.8199, train acc 0.747, test acc 0.732\n",
      "epoch 47, loss 0.8156, train acc 0.748, test acc 0.733\n",
      "epoch 48, loss 0.8115, train acc 0.749, test acc 0.735\n",
      "epoch 49, loss 0.8075, train acc 0.751, test acc 0.736\n",
      "epoch 50, loss 0.8036, train acc 0.751, test acc 0.737\n"
     ]
    },
    {
     "data": {
      "image/png": "[encoded data removed]",
      "text/plain": [
       "<Figure size 432x288 with 1 Axes>"
      ]
     },
     "metadata": {
      "needs_background": "light"
     },
     "output_type": "display_data"
    }
   ],
   "source": [
    "lr = 0.0005  \n",
    "num_epochs = 50\n",
    "batch_size = 256\n",
    "test_acc,train_acc= [],[]\n",
    "train_loss,test_loss =[],[] \n",
    "W, b = initialize(784, 10)\n",
    "\n",
    "train(test_acc,train_acc,train_loss,test_loss,W, b,num_epochs,batch_size,lr,data_iter, 784)\n",
    "\n",
    "plot_loss_curve([train_loss,\"train_loss\"])"
   ]
  },
  {
   "cell_type": "code",
   "execution_count": 386,
   "metadata": {},
   "outputs": [
    {
     "data": {
      "image/png": "[encoded data removed]",
      "text/plain": [
       "<Figure size 432x288 with 1 Axes>"
      ]
     },
     "metadata": {
      "needs_background": "light"
     },
     "output_type": "display_data"
    }
   ],
   "source": [
    "plot_loss_curve([train_acc,\"train_acc\"],[test_acc,\"test_acc\"],ylabel = \"acc\")"
   ]
  },
  {
   "cell_type": "markdown",
   "metadata": {},
   "source": [
    "2. 利用torch.nn实现 softmax 回归在Fashion-MNIST数据集上进行训练和测试，并从loss，训练集以及测试集上的准确率等多个角度对结果进行分析"
   ]
  },
  {
   "cell_type": "code",
   "execution_count": 400,
   "metadata": {},
   "outputs": [],
   "source": [
    "import torch\n",
    "import numpy as np\n",
    "import matplotlib.pyplot as plt\n",
    "import torch.utils.data as Data\n",
    "from torch.nn import init\n",
    "from torch import nn\n",
    "from torchvision import transforms as transforms\n",
    "import torchvision\n",
    "from torch.utils.data import DataLoader\n"
   ]
  },
  {
   "cell_type": "code",
   "execution_count": 401,
   "metadata": {},
   "outputs": [],
   "source": [
    "forward = torch.nn.Sequential(nn.Flatten(), nn.Linear(784,10))\n",
    "def init_weights(m):\n",
    "    if type(m) == nn.Linear:\n",
    "        nn.init.normal_(m.weight,std = 0.01)\n",
    "forward.apply(init_weights)\n",
    "loss = nn.CrossEntropyLoss()\n",
    "optimizer = torch.optim.SGD(forward.parameters(),lr = 0.1)"
   ]
  },
  {
   "cell_type": "code",
   "execution_count": 402,
   "metadata": {},
   "outputs": [],
   "source": [
    "def evaluate_accuracy(data_iter):  \n",
    "    acc_sum,n,test_l_sum = 0.0,0 ,0 \n",
    "    for testX, testY in data_iter: \n",
    "        acc_sum += (forward(testX).argmax(dim = 1) == testY).float().sum().item()\n",
    "        l = loss(forward(testX),testY).sum()\n",
    "        test_l_sum += l.item()  \n",
    "        n += testY.shape[0]  \n",
    "    return acc_sum/n,test_l_sum/n "
   ]
  },
  {
   "cell_type": "code",
   "execution_count": 403,
   "metadata": {},
   "outputs": [],
   "source": [
    "def train(test_acc, train_acc, train_loss, test_loss, epochs):\n",
    "    for i in range(epochs):\n",
    "        train_l_sum, train_acc_sum, n = 0.0,0.0,0  \n",
    "        for trainX, trainY in train_iter:\n",
    "            train_y_pred = forward(trainX) \n",
    "            training_loss = loss(train_y_pred, trainY).sum()\n",
    "            optimizer.zero_grad()\n",
    "            training_loss.backward()\n",
    "            optimizer.step()\n",
    "            train_l_sum += training_loss.item()  \n",
    "            train_acc_sum += (train_y_pred.argmax(dim=1)==trainY).sum().item()  \n",
    "            n += trainY.shape[0] \n",
    "        test_a,test_l = evaluate_accuracy(test_iter)\n",
    "        test_acc.append(test_a)\n",
    "        test_loss.append(test_l)\n",
    "        train_acc.append(train_acc_sum/n)\n",
    "        train_loss.append(train_l_sum/n)\n",
    "        print('epoch %d, loss %.4f, train acc %.3f, test acc %.3f'\n",
    "            % (i + 1, train_loss[i], train_acc[i], test_acc[i]))\n"
   ]
  },
  {
   "cell_type": "code",
   "execution_count": 404,
   "metadata": {},
   "outputs": [
    {
     "name": "stdout",
     "output_type": "stream",
     "text": [
      "epoch 1, loss 0.0031, train acc 0.750, test acc 0.742\n",
      "epoch 2, loss 0.0022, train acc 0.813, test acc 0.811\n",
      "epoch 3, loss 0.0021, train acc 0.826, test acc 0.809\n",
      "epoch 4, loss 0.0020, train acc 0.833, test acc 0.819\n",
      "epoch 5, loss 0.0019, train acc 0.836, test acc 0.819\n",
      "epoch 6, loss 0.0019, train acc 0.840, test acc 0.826\n",
      "epoch 7, loss 0.0018, train acc 0.843, test acc 0.823\n",
      "epoch 8, loss 0.0018, train acc 0.845, test acc 0.832\n",
      "epoch 9, loss 0.0018, train acc 0.847, test acc 0.834\n",
      "epoch 10, loss 0.0017, train acc 0.849, test acc 0.829\n",
      "epoch 11, loss 0.0017, train acc 0.849, test acc 0.830\n",
      "epoch 12, loss 0.0017, train acc 0.850, test acc 0.817\n",
      "epoch 13, loss 0.0017, train acc 0.852, test acc 0.837\n",
      "epoch 14, loss 0.0017, train acc 0.853, test acc 0.830\n",
      "epoch 15, loss 0.0017, train acc 0.852, test acc 0.832\n",
      "epoch 16, loss 0.0017, train acc 0.853, test acc 0.834\n",
      "epoch 17, loss 0.0017, train acc 0.854, test acc 0.835\n",
      "epoch 18, loss 0.0017, train acc 0.855, test acc 0.838\n",
      "epoch 19, loss 0.0017, train acc 0.855, test acc 0.839\n",
      "epoch 20, loss 0.0016, train acc 0.857, test acc 0.835\n",
      "epoch 21, loss 0.0016, train acc 0.857, test acc 0.840\n",
      "epoch 22, loss 0.0016, train acc 0.858, test acc 0.839\n",
      "epoch 23, loss 0.0016, train acc 0.858, test acc 0.840\n",
      "epoch 24, loss 0.0016, train acc 0.859, test acc 0.837\n",
      "epoch 25, loss 0.0016, train acc 0.859, test acc 0.839\n",
      "epoch 26, loss 0.0016, train acc 0.859, test acc 0.843\n",
      "epoch 27, loss 0.0016, train acc 0.859, test acc 0.840\n",
      "epoch 28, loss 0.0016, train acc 0.860, test acc 0.840\n",
      "epoch 29, loss 0.0016, train acc 0.859, test acc 0.839\n",
      "epoch 30, loss 0.0016, train acc 0.861, test acc 0.835\n",
      "epoch 31, loss 0.0016, train acc 0.861, test acc 0.835\n",
      "epoch 32, loss 0.0016, train acc 0.861, test acc 0.839\n",
      "epoch 33, loss 0.0016, train acc 0.861, test acc 0.840\n",
      "epoch 34, loss 0.0016, train acc 0.863, test acc 0.833\n",
      "epoch 35, loss 0.0016, train acc 0.861, test acc 0.843\n",
      "epoch 36, loss 0.0016, train acc 0.861, test acc 0.842\n",
      "epoch 37, loss 0.0016, train acc 0.863, test acc 0.839\n",
      "epoch 38, loss 0.0016, train acc 0.862, test acc 0.840\n",
      "epoch 39, loss 0.0016, train acc 0.863, test acc 0.842\n",
      "epoch 40, loss 0.0016, train acc 0.863, test acc 0.838\n",
      "epoch 41, loss 0.0016, train acc 0.862, test acc 0.841\n",
      "epoch 42, loss 0.0016, train acc 0.863, test acc 0.845\n",
      "epoch 43, loss 0.0016, train acc 0.863, test acc 0.837\n",
      "epoch 44, loss 0.0016, train acc 0.864, test acc 0.835\n",
      "epoch 45, loss 0.0016, train acc 0.864, test acc 0.844\n",
      "epoch 46, loss 0.0016, train acc 0.864, test acc 0.837\n",
      "epoch 47, loss 0.0016, train acc 0.864, test acc 0.841\n",
      "epoch 48, loss 0.0015, train acc 0.865, test acc 0.843\n",
      "epoch 49, loss 0.0015, train acc 0.864, test acc 0.846\n",
      "epoch 50, loss 0.0015, train acc 0.864, test acc 0.845\n"
     ]
    },
    {
     "data": {
      "image/png": "[encoded data removed]",
      "text/plain": [
       "<Figure size 432x288 with 1 Axes>"
      ]
     },
     "metadata": {
      "needs_background": "light"
     },
     "output_type": "display_data"
    }
   ],
   "source": [
    "lr = 0.0005  \n",
    "num_epochs = 50\n",
    "batch_size = 256\n",
    "test_acc,train_acc= [],[]\n",
    "train_loss,test_loss =[],[] \n",
    "W, b = initialize(784, 10)\n",
    "\n",
    "train(test_acc,train_acc,train_loss,test_loss,num_epochs)\n",
    "\n",
    "plot_loss_curve([train_loss,\"train_loss\"])"
   ]
  },
  {
   "cell_type": "code",
   "execution_count": 390,
   "metadata": {},
   "outputs": [
    {
     "data": {
      "image/png": "[encoded data removed]",
      "text/plain": [
       "<Figure size 432x288 with 1 Axes>"
      ]
     },
     "metadata": {
      "needs_background": "light"
     },
     "output_type": "display_data"
    }
   ],
   "source": [
    "plot_loss_curve([train_acc,\"train_acc\"],[test_acc,\"test_acc\"],ylabel = \"acc\")"
   ]
  }
 ],
 "metadata": {
  "kernelspec": {
   "display_name": "Python 3.8.13 ('pytorch')",
   "language": "python",
   "name": "python3"
  },
  "language_info": {
   "codemirror_mode": {
    "name": "ipython",
    "version": 3
   },
   "file_extension": ".py",
   "mimetype": "text/x-python",
   "name": "python",
   "nbconvert_exporter": "python",
   "pygments_lexer": "ipython3",
   "version": "3.8.13"
  },
  "orig_nbformat": 4,
  "vscode": {
   "interpreter": {
    "hash": "56666717a1439a56e6a0a4b3b47abef8c5365e92dbe10dfe718333e3b05e18b2"
   }
  }
 },
 "nbformat": 4,
 "nbformat_minor": 2
}
